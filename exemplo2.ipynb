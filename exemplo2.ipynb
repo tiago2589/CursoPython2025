{
 "cells": [
  {
   "cell_type": "markdown",
   "id": "f096b27d",
   "metadata": {},
   "source": [
    "Aprendendo Pyhton"
   ]
  },
  {
   "cell_type": "code",
   "execution_count": 1,
   "id": "1044bd1e",
   "metadata": {},
   "outputs": [
    {
     "name": "stdout",
     "output_type": "stream",
     "text": [
      "Hello World\n"
     ]
    }
   ],
   "source": [
    "print (\"Hello World\")"
   ]
  },
  {
   "cell_type": "code",
   "execution_count": 2,
   "id": "29955f1a",
   "metadata": {},
   "outputs": [
    {
     "data": {
      "text/plain": [
       "9"
      ]
     },
     "execution_count": 2,
     "metadata": {},
     "output_type": "execute_result"
    }
   ],
   "source": [
    "5 + 4"
   ]
  },
  {
   "cell_type": "code",
   "execution_count": null,
   "id": "875b31a7",
   "metadata": {},
   "outputs": [],
   "source": [
    "#python -m venv .venv\n",
    "#.\\.venv\\Scripts\\activate\n",
    "#pip list\n",
    "#pip install pandas\n",
    "#pip freeze\n",
    "#pip freeze > requeriments.txt - cria o arquivo de requerimentos.txt\n",
    "#pip install -r requeriments.txt - instala os pacotes do arquivo de requerimentos.txt em outro ambiente virtual\n",
    "#Set-ExecutionPolicy -ExecutionPolicy RemoteSigned - usei isso no powershell para ativar o ambiente virtual"
   ]
  }
 ],
 "metadata": {
  "kernelspec": {
   "display_name": "Python 3",
   "language": "python",
   "name": "python3"
  },
  "language_info": {
   "codemirror_mode": {
    "name": "ipython",
    "version": 3
   },
   "file_extension": ".py",
   "mimetype": "text/x-python",
   "name": "python",
   "nbconvert_exporter": "python",
   "pygments_lexer": "ipython3",
   "version": "3.13.5"
  }
 },
 "nbformat": 4,
 "nbformat_minor": 5
}
